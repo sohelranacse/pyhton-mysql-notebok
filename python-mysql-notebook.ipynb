{
 "cells": [
  {
   "cell_type": "code",
   "execution_count": 1,
   "metadata": {},
   "outputs": [
    {
     "name": "stdout",
     "output_type": "stream",
     "text": [
      "Requirement already satisfied: mysql-connector in d:\\anaconda\\lib\\site-packages (2.2.9)\n"
     ]
    }
   ],
   "source": [
    "!pip install mysql-connector"
   ]
  },
  {
   "cell_type": "code",
   "execution_count": 2,
   "metadata": {},
   "outputs": [
    {
     "name": "stdout",
     "output_type": "stream",
     "text": [
      "Requirement already satisfied: mysqlclient in d:\\anaconda\\lib\\site-packages (2.0.2)\n"
     ]
    }
   ],
   "source": [
    "!pip install mysqlclient"
   ]
  },
  {
   "cell_type": "code",
   "execution_count": 3,
   "metadata": {},
   "outputs": [
    {
     "name": "stdout",
     "output_type": "stream",
     "text": [
      "Requirement already satisfied: mysql-connector-python in d:\\anaconda\\lib\\site-packages (8.0.22)\n",
      "Requirement already satisfied: protobuf>=3.0.0 in d:\\anaconda\\lib\\site-packages (from mysql-connector-python) (3.13.0)\n",
      "Requirement already satisfied: six>=1.9 in d:\\anaconda\\lib\\site-packages (from protobuf>=3.0.0->mysql-connector-python) (1.15.0)\n",
      "Requirement already satisfied: setuptools in d:\\anaconda\\lib\\site-packages (from protobuf>=3.0.0->mysql-connector-python) (49.2.0.post20200714)\n"
     ]
    }
   ],
   "source": [
    "!pip install mysql-connector-python"
   ]
  },
  {
   "cell_type": "code",
   "execution_count": 4,
   "metadata": {},
   "outputs": [
    {
     "name": "stdout",
     "output_type": "stream",
     "text": [
      "Requirement already satisfied: pymysql in d:\\anaconda\\lib\\site-packages (0.10.1)\n"
     ]
    }
   ],
   "source": [
    "!pip install pymysql"
   ]
  },
  {
   "cell_type": "code",
   "execution_count": 5,
   "metadata": {},
   "outputs": [],
   "source": [
    "import pymysql"
   ]
  },
  {
   "cell_type": "code",
   "execution_count": 6,
   "metadata": {},
   "outputs": [],
   "source": [
    "# open XAMPP/WAMP\n",
    "# start Apache and Mysql\n",
    "# browse http://localhost/phpmyadmin\n",
    "# create database for sql command 'CREATE DATABASE python_mysql_db';"
   ]
  },
  {
   "cell_type": "code",
   "execution_count": 7,
   "metadata": {},
   "outputs": [
    {
     "name": "stdout",
     "output_type": "stream",
     "text": [
      "Connected\n"
     ]
    }
   ],
   "source": [
    "# database connection\n",
    "mydb = pymysql.connect(host=\"localhost\", user=\"root\", password=\"\", db=\"python_mysql_db\")\n",
    "if mydb:\n",
    "    print(\"Connected\")\n",
    "else:\n",
    "    print(\"Not connected!\")\n",
    "    \n",
    "cursor = mydb.cursor()"
   ]
  },
  {
   "cell_type": "code",
   "execution_count": 8,
   "metadata": {},
   "outputs": [
    {
     "name": "stdout",
     "output_type": "stream",
     "text": [
      "Table created successfully\n"
     ]
    }
   ],
   "source": [
    "# crate table\n",
    "sql = \"\"\"\n",
    "    CREATE TABLE cricketer_information (\n",
    "        palyer_id INT NOT NULL AUTO_INCREMENT,\n",
    "        name VARCHAR(100) NOT NULL,\n",
    "        email VARCHAR(55) NULL,\n",
    "        phone_number VARCHAR(20) NOT NULL,\n",
    "        address TEXT NULL,\n",
    "        PRIMARY KEY (palyer_id)\n",
    "    );\n",
    "\"\"\"\n",
    "cursor.execute(sql)\n",
    "mydb.commit()\n",
    "print(\"Table created successfully\")"
   ]
  },
  {
   "cell_type": "code",
   "execution_count": 9,
   "metadata": {},
   "outputs": [
    {
     "name": "stdout",
     "output_type": "stream",
     "text": [
      "Data inserted successfully\n"
     ]
    }
   ],
   "source": [
    "# insert data\n",
    "sql = \"INSERT INTO cricketer_information(name, email, phone_number, address) VALUES(%s, %s, %s, %s)\"\n",
    "palyers_data = [\n",
    "    (\"Sabbir Rahman\", 'sabbirrahman@gmail.com', '01775326440', 'Godagari, Rajshahi'),\n",
    "    (\"Mahmudul Hasan Joy\", 'mahmudulhasanjoy@gmail.com', '01775329912', 'Motlob, Chadpur'),\n",
    "    (\"Shakib al Hasan\", 'sabbirrahman@gmail.com', '01798326440', 'Magura, Khulna'),\n",
    "    (\"Taskin Ahmed\", 'sabbirrahman@gmail.com', '01775386440', 'Hali Shohor, Chittagong'),\n",
    "    (\"Mustafizur Rahman\", 'mustafizurrahman@gmail.com', '01775326487', 'Satkhira, Khulna'),\n",
    "    (\"Mushfiqur Rahim\", 'sabbirrahman@gmail.com', '01895326440', 'Kahalu, Bogra')\n",
    "]\n",
    "\n",
    "cursor.executemany(sql, palyers_data)\n",
    "mydb.commit()\n",
    "print(\"Data inserted successfully\")"
   ]
  },
  {
   "cell_type": "code",
   "execution_count": 10,
   "metadata": {},
   "outputs": [
    {
     "name": "stdout",
     "output_type": "stream",
     "text": [
      "(1, 'Sabbir Rahman', 'sabbirrahman@gmail.com', '01775326440', 'Godagari, Rajshahi')\n",
      "(2, 'Mahmudul Hasan Joy', 'mahmudulhasanjoy@gmail.com', '01775329912', 'Motlob, Chadpur')\n",
      "(3, 'Shakib al Hasan', 'sabbirrahman@gmail.com', '01798326440', 'Magura, Khulna')\n",
      "(4, 'Taskin Ahmed', 'sabbirrahman@gmail.com', '01775386440', 'Hali Shohor, Chittagong')\n",
      "(5, 'Mustafizur Rahman', 'mustafizurrahman@gmail.com', '01775326487', 'Satkhira, Khulna')\n",
      "(6, 'Mushfiqur Rahim', 'sabbirrahman@gmail.com', '01895326440', 'Kahalu, Bogra')\n"
     ]
    }
   ],
   "source": [
    "# read data all\n",
    "cursor.execute(\"SELECT * FROM cricketer_information\")\n",
    "myresult = cursor.fetchall() # fetchone(), fetchmany(argument)\n",
    "\n",
    "for row in myresult:\n",
    "    print(row)"
   ]
  },
  {
   "cell_type": "code",
   "execution_count": 11,
   "metadata": {},
   "outputs": [
    {
     "name": "stdout",
     "output_type": "stream",
     "text": [
      "2\n",
      "Mahmudul Hasan Joy\n",
      "mahmudulhasanjoy@gmail.com\n",
      "01775329912\n",
      "Chandpur, Chittagong\n"
     ]
    }
   ],
   "source": [
    "# update data\n",
    "sql = \"UPDATE cricketer_information SET address = 'Chandpur, Chittagong' WHERE palyer_id=2\"\n",
    "cursor.execute(sql)\n",
    "mydb.commit()\n",
    "\n",
    "# read this palyer information\n",
    "cursor.execute(\"SELECT * FROM cricketer_information WHERE palyer_id=2\")\n",
    "myresult = cursor.fetchone()\n",
    "for row in myresult:\n",
    "    print(row)"
   ]
  },
  {
   "cell_type": "code",
   "execution_count": 12,
   "metadata": {},
   "outputs": [
    {
     "name": "stdout",
     "output_type": "stream",
     "text": [
      "(1, 'Sabbir Rahman', 'sabbirrahman@gmail.com', '01775326440', 'Godagari, Rajshahi')\n",
      "(3, 'Shakib al Hasan', 'sabbirrahman@gmail.com', '01798326440', 'Magura, Khulna')\n",
      "(4, 'Taskin Ahmed', 'sabbirrahman@gmail.com', '01775386440', 'Hali Shohor, Chittagong')\n",
      "(5, 'Mustafizur Rahman', 'mustafizurrahman@gmail.com', '01775326487', 'Satkhira, Khulna')\n",
      "(6, 'Mushfiqur Rahim', 'sabbirrahman@gmail.com', '01895326440', 'Kahalu, Bogra')\n"
     ]
    }
   ],
   "source": [
    "# delete data\n",
    "sql = \"DELETE FROM cricketer_information WHERE palyer_id=2\"\n",
    "cursor.execute(sql)\n",
    "mydb.commit()\n",
    "\n",
    "# read all data\n",
    "cursor.execute(\"SELECT * FROM cricketer_information\")\n",
    "myresult = cursor.fetchall()\n",
    "for row in myresult:\n",
    "    print(row)"
   ]
  }
 ],
 "metadata": {
  "kernelspec": {
   "display_name": "Python 3",
   "language": "python",
   "name": "python3"
  },
  "language_info": {
   "codemirror_mode": {
    "name": "ipython",
    "version": 3
   },
   "file_extension": ".py",
   "mimetype": "text/x-python",
   "name": "python",
   "nbconvert_exporter": "python",
   "pygments_lexer": "ipython3",
   "version": "3.8.3"
  }
 },
 "nbformat": 4,
 "nbformat_minor": 4
}
